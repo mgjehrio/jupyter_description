{
 "cells": [
  {
   "cell_type": "markdown",
   "id": "9c2cbe93",
   "metadata": {
    "slideshow": {
     "slide_type": "slide"
    }
   },
   "source": [
    "  # Lab Meeting Presentation 1/24/2023\n",
    "\n",
    "## Matthew Jehrio"
   ]
  },
  {
   "cell_type": "markdown",
   "id": "3f4028e7",
   "metadata": {
    "slideshow": {
     "slide_type": "slide"
    }
   },
   "source": [
    "### Jupyter Notebook: What is it?\n"
   ]
  },
  {
   "cell_type": "markdown",
   "id": "9669f62f",
   "metadata": {
    "slideshow": {
     "slide_type": "slide"
    }
   },
   "source": [
    "### Data Science Workbench\n",
    "- Data Exploration\n",
    "- Data Visualization\n",
    "- Prototyping\n",
    "- Workflow Development\n",
    "- Workflow Documentation\n",
    "\n"
   ]
  },
  {
   "cell_type": "markdown",
   "id": "d2ae7db6",
   "metadata": {
    "slideshow": {
     "slide_type": "slide"
    }
   },
   "source": [
    "### Example\n",
    "In the methods described below we seek to expand upon the seminal work by Isaac Newton [1][link_1]\n",
    "\n",
    "[link_1]: https://scholar.google.com/ \"Title\"\n",
    "$ \\oint _{t_0}^{t_{critical}} L(\\phi(t),\\Gamma(t) ) $\n",
    "\n",
    "\n"
   ]
  },
  {
   "cell_type": "code",
   "execution_count": null,
   "id": "72b6b4f1",
   "metadata": {
    "slideshow": {
     "slide_type": "fragment"
    }
   },
   "outputs": [],
   "source": [
    "\n"
   ]
  },
  {
   "cell_type": "code",
   "execution_count": 32,
   "id": "4474df93",
   "metadata": {
    "slideshow": {
     "slide_type": "slide"
    }
   },
   "outputs": [
    {
     "data": {
      "text/plain": [
       "[<matplotlib.lines.Line2D at 0x258f3fc0880>]"
      ]
     },
     "execution_count": 32,
     "metadata": {},
     "output_type": "execute_result"
    },
    {
     "data": {
      "image/png": "[encoded data removed]",
      "text/plain": [
       "<Figure size 600x300 with 1 Axes>"
      ]
     },
     "metadata": {},
     "output_type": "display_data"
    }
   ],
   "source": [
    "import matplotlib.pyplot as plt\n",
    "import numpy as np\n",
    "y = np.array([1,3,5,8,13])\n",
    "plt.figure(figsize=(6,3))\n",
    "plt.title('Sample Graph')\n",
    "plt.ylabel('Dependent Variable')\n",
    "plt.xlabel('Independent Variable')\n",
    "plt.plot(y)"
   ]
  },
  {
   "cell_type": "markdown",
   "id": "de6f5923",
   "metadata": {
    "slideshow": {
     "slide_type": "slide"
    }
   },
   "source": [
    "## Multimedia Applications\n",
    "\n",
    "- Code\n",
    "- Data Visualization\n",
    "- Images/Videos\n",
    "- Interactive Functionality\n",
    "- Emerging Technologies like Terra/ ML Pipelines etc."
   ]
  },
  {
   "cell_type": "markdown",
   "id": "0140778b",
   "metadata": {
    "slideshow": {
     "slide_type": "slide"
    }
   },
   "source": [
    "## Sample Workflow"
   ]
  },
  {
   "cell_type": "markdown",
   "id": "38c11586",
   "metadata": {
    "slideshow": {
     "slide_type": "subslide"
    }
   },
   "source": [
    " #### Load Data into Jupyter/Sample Preparation\n",
    "\n",
    "```python \n",
    "data = load(path\\to\\your\\data.csv)\n",
    "```"
   ]
  },
  {
   "cell_type": "markdown",
   "id": "c00b1b96",
   "metadata": {
    "slideshow": {
     "slide_type": "subslide"
    }
   },
   "source": [
    "#### Analyze Data/Run Assay\n",
    "\n",
    "```python\n",
    "\n",
    "import Differentital_Expression_Library as dle\n",
    "    results = dle.analyze(data)\n",
    "```"
   ]
  },
  {
   "cell_type": "markdown",
   "id": "bd067d64",
   "metadata": {
    "slideshow": {
     "slide_type": "subslide"
    }
   },
   "source": [
    "## Visualize Results/Record Data"
   ]
  },
  {
   "cell_type": "code",
   "execution_count": 45,
   "id": "d32bb164",
   "metadata": {
    "slideshow": {
     "slide_type": "fragment"
    }
   },
   "outputs": [
    {
     "data": {},
     "metadata": {},
     "output_type": "display_data"
    },
    {
     "data": {
      "application/vnd.holoviews_exec.v0+json": "",
      "text/html": [
       "<div id='1573'>\n",
       "  <div class=\"bk-root\" id=\"69476f01-baa7-485c-9c9c-1daa218dd2ca\" data-root-id=\"1573\"></div>\n",
       "</div>\n",
       "<script type=\"application/javascript\">(function(root) {\n",
       "  function embed_document(root) {\n",
       "    var docs_json = {\"575095ea-f254-4257-bb63-1a33dc6fe617\":{\"defs\":[{\"extends\":null,\"module\":null,\"name\":\"ReactiveHTML1\",\"overrides\":[],\"properties\":[]},{\"extends\":null,\"module\":null,\"name\":\"FlexBox1\",\"overrides\":[],\"properties\":[{\"default\":\"flex-start\",\"kind\":null,\"name\":\"align_content\"},{\"default\":\"flex-start\",\"kind\":null,\"name\":\"align_items\"},{\"default\":\"row\",\"kind\":null,\"name\":\"flex_direction\"},{\"default\":\"wrap\",\"kind\":null,\"name\":\"flex_wrap\"},{\"default\":\"flex-start\",\"kind\":null,\"name\":\"justify_content\"}]},{\"extends\":null,\"module\":null,\"name\":\"GridStack1\",\"overrides\":[],\"properties\":[{\"default\":\"warn\",\"kind\":null,\"name\":\"mode\"},{\"default\":null,\"kind\":null,\"name\":\"ncols\"},{\"default\":null,\"kind\":null,\"name\":\"nrows\"},{\"default\":true,\"kind\":null,\"name\":\"allow_resize\"},{\"default\":true,\"kind\":null,\"name\":\"allow_drag\"},{\"default\":[],\"kind\":null,\"name\":\"state\"}]},{\"extends\":null,\"module\":null,\"name\":\"click1\",\"overrides\":[],\"properties\":[{\"default\":\"\",\"kind\":null,\"name\":\"terminal_output\"},{\"default\":\"\",\"kind\":null,\"name\":\"debug_name\"},{\"default\":0,\"kind\":null,\"name\":\"clears\"}]},{\"extends\":null,\"module\":null,\"name\":\"NotificationAreaBase1\",\"overrides\":[],\"properties\":[{\"default\":\"bottom-right\",\"kind\":null,\"name\":\"position\"},{\"default\":0,\"kind\":null,\"name\":\"_clear\"}]},{\"extends\":null,\"module\":null,\"name\":\"NotificationArea1\",\"overrides\":[],\"properties\":[{\"default\":[],\"kind\":null,\"name\":\"notifications\"},{\"default\":\"bottom-right\",\"kind\":null,\"name\":\"position\"},{\"default\":0,\"kind\":null,\"name\":\"_clear\"},{\"default\":[{\"background\":\"#ffc107\",\"icon\":{\"className\":\"fas fa-exclamation-triangle\",\"color\":\"white\",\"tagName\":\"i\"},\"type\":\"warning\"},{\"background\":\"#007bff\",\"icon\":{\"className\":\"fas fa-info-circle\",\"color\":\"white\",\"tagName\":\"i\"},\"type\":\"info\"}],\"kind\":null,\"name\":\"types\"}]},{\"extends\":null,\"module\":null,\"name\":\"Notification\",\"overrides\":[],\"properties\":[{\"default\":null,\"kind\":null,\"name\":\"background\"},{\"default\":3000,\"kind\":null,\"name\":\"duration\"},{\"default\":null,\"kind\":null,\"name\":\"icon\"},{\"default\":\"\",\"kind\":null,\"name\":\"message\"},{\"default\":null,\"kind\":null,\"name\":\"notification_type\"},{\"default\":false,\"kind\":null,\"name\":\"_destroyed\"}]},{\"extends\":null,\"module\":null,\"name\":\"TemplateActions1\",\"overrides\":[],\"properties\":[{\"default\":0,\"kind\":null,\"name\":\"open_modal\"},{\"default\":0,\"kind\":null,\"name\":\"close_modal\"}]},{\"extends\":null,\"module\":null,\"name\":\"MaterialTemplateActions1\",\"overrides\":[],\"properties\":[{\"default\":0,\"kind\":null,\"name\":\"open_modal\"},{\"default\":0,\"kind\":null,\"name\":\"close_modal\"}]}],\"roots\":{\"references\":[{\"attributes\":{\"end\":49.0,\"reset_end\":49.0,\"reset_start\":0.0,\"tags\":[[[\"index\",\"index\",null]]]},\"id\":\"1575\",\"type\":\"Range1d\"},{\"attributes\":{},\"id\":\"1621\",\"type\":\"BasicTickFormatter\"},{\"attributes\":{},\"id\":\"1609\",\"type\":\"Selection\"},{\"attributes\":{\"end\":143.5541514598664,\"reset_end\":143.5541514598664,\"reset_start\":-8.038438988278777,\"start\":-8.038438988278777,\"tags\":[[[\"0\",\"0\",null]]]},\"id\":\"1576\",\"type\":\"Range1d\"},{\"attributes\":{\"margin\":[5,5,5,5],\"name\":\"HSpacer01421\",\"sizing_mode\":\"stretch_width\"},\"id\":\"1633\",\"type\":\"Spacer\"},{\"attributes\":{\"coordinates\":null,\"data_source\":{\"id\":\"1608\"},\"glyph\":{\"id\":\"1611\"},\"group\":null,\"hover_glyph\":null,\"muted_glyph\":{\"id\":\"1613\"},\"nonselection_glyph\":{\"id\":\"1612\"},\"selection_glyph\":{\"id\":\"1616\"},\"view\":{\"id\":\"1615\"}},\"id\":\"1614\",\"type\":\"GlyphRenderer\"},{\"attributes\":{\"callback\":null,\"renderers\":[{\"id\":\"1614\"}],\"tags\":[\"hv_created\"],\"tooltips\":[[\"index\",\"@{index}\"],[\"0\",\"@{A_0}\"]]},\"id\":\"1577\",\"type\":\"HoverTool\"},{\"attributes\":{\"bottom_units\":\"screen\",\"coordinates\":null,\"fill_alpha\":0.5,\"fill_color\":\"lightgrey\",\"group\":null,\"left_units\":\"screen\",\"level\":\"overlay\",\"line_alpha\":1.0,\"line_color\":\"black\",\"line_dash\":[4,4],\"line_width\":2,\"right_units\":\"screen\",\"syncable\":false,\"top_units\":\"screen\"},\"id\":\"1600\",\"type\":\"BoxAnnotation\"},{\"attributes\":{},\"id\":\"1630\",\"type\":\"UnionRenderers\"},{\"attributes\":{},\"id\":\"1585\",\"type\":\"LinearScale\"},{\"attributes\":{\"children\":[{\"id\":\"1574\"},{\"id\":\"1578\"},{\"id\":\"1633\"}],\"margin\":[0,0,0,0],\"name\":\"Row01416\",\"tags\":[\"embedded\"]},\"id\":\"1573\",\"type\":\"Row\"},{\"attributes\":{},\"id\":\"1618\",\"type\":\"BasicTickFormatter\"},{\"attributes\":{},\"id\":\"1588\",\"type\":\"BasicTicker\"},{\"attributes\":{\"coordinates\":null,\"group\":null,\"text_color\":\"black\",\"text_font_size\":\"12pt\"},\"id\":\"1579\",\"type\":\"Title\"},{\"attributes\":{\"axis\":{\"id\":\"1587\"},\"coordinates\":null,\"grid_line_color\":null,\"group\":null,\"ticker\":null},\"id\":\"1590\",\"type\":\"Grid\"},{\"attributes\":{\"axis_label\":\"\",\"coordinates\":null,\"formatter\":{\"id\":\"1618\"},\"group\":null,\"major_label_policy\":{\"id\":\"1619\"},\"ticker\":{\"id\":\"1588\"}},\"id\":\"1587\",\"type\":\"LinearAxis\"},{\"attributes\":{\"tools\":[{\"id\":\"1577\"},{\"id\":\"1595\"},{\"id\":\"1596\"},{\"id\":\"1597\"},{\"id\":\"1598\"},{\"id\":\"1599\"}]},\"id\":\"1601\",\"type\":\"Toolbar\"},{\"attributes\":{},\"id\":\"1596\",\"type\":\"PanTool\"},{\"attributes\":{\"line_alpha\":0.1,\"line_color\":\"#30a2da\",\"line_width\":2,\"x\":{\"field\":\"index\"},\"y\":{\"field\":\"0\"}},\"id\":\"1612\",\"type\":\"Line\"},{\"attributes\":{\"axis_label\":\"0\",\"coordinates\":null,\"formatter\":{\"id\":\"1621\"},\"group\":null,\"major_label_policy\":{\"id\":\"1622\"},\"ticker\":{\"id\":\"1592\"}},\"id\":\"1591\",\"type\":\"LinearAxis\"},{\"attributes\":{\"axis\":{\"id\":\"1591\"},\"coordinates\":null,\"dimension\":1,\"grid_line_color\":null,\"group\":null,\"ticker\":null},\"id\":\"1594\",\"type\":\"Grid\"},{\"attributes\":{},\"id\":\"1592\",\"type\":\"BasicTicker\"},{\"attributes\":{\"line_alpha\":0.2,\"line_color\":\"#30a2da\",\"line_width\":2,\"x\":{\"field\":\"index\"},\"y\":{\"field\":\"0\"}},\"id\":\"1613\",\"type\":\"Line\"},{\"attributes\":{},\"id\":\"1597\",\"type\":\"WheelZoomTool\"},{\"attributes\":{\"line_color\":\"#30a2da\",\"line_width\":2,\"x\":{\"field\":\"index\"},\"y\":{\"field\":\"0\"}},\"id\":\"1611\",\"type\":\"Line\"},{\"attributes\":{},\"id\":\"1622\",\"type\":\"AllLabels\"},{\"attributes\":{},\"id\":\"1595\",\"type\":\"SaveTool\"},{\"attributes\":{\"source\":{\"id\":\"1608\"}},\"id\":\"1615\",\"type\":\"CDSView\"},{\"attributes\":{\"line_color\":\"#30a2da\",\"line_width\":2,\"x\":{\"field\":\"index\"},\"y\":{\"field\":\"0\"}},\"id\":\"1616\",\"type\":\"Line\"},{\"attributes\":{\"overlay\":{\"id\":\"1600\"}},\"id\":\"1598\",\"type\":\"BoxZoomTool\"},{\"attributes\":{},\"id\":\"1599\",\"type\":\"ResetTool\"},{\"attributes\":{\"margin\":[5,5,5,5],\"name\":\"HSpacer01420\",\"sizing_mode\":\"stretch_width\"},\"id\":\"1574\",\"type\":\"Spacer\"},{\"attributes\":{\"below\":[{\"id\":\"1587\"}],\"center\":[{\"id\":\"1590\"},{\"id\":\"1594\"}],\"height\":300,\"left\":[{\"id\":\"1591\"}],\"margin\":[5,5,5,5],\"min_border_bottom\":10,\"min_border_left\":10,\"min_border_right\":10,\"min_border_top\":10,\"renderers\":[{\"id\":\"1614\"}],\"sizing_mode\":\"fixed\",\"title\":{\"id\":\"1579\"},\"toolbar\":{\"id\":\"1601\"},\"width\":700,\"x_range\":{\"id\":\"1575\"},\"x_scale\":{\"id\":\"1583\"},\"y_range\":{\"id\":\"1576\"},\"y_scale\":{\"id\":\"1585\"}},\"id\":\"1578\",\"subtype\":\"Figure\",\"type\":\"Plot\"},{\"attributes\":{},\"id\":\"1619\",\"type\":\"AllLabels\"},{\"attributes\":{\"data\":{\"0\":{\"__ndarray__\":\"CbV6HopgEkA1+mf1OdxCQE2e/IvBxz1AHn7Zrz+KPkDkpy5emT1MQO7o9aMEjkxANqTNxiekTkCxST9oS+U1QKU2xrxyUjhANh3P5ip2UEDBApU+421MQP+UH2S4LVFAqoFT1sLiUEA7qBN+Y7ZOQL7ofEtUs01AMrMNaqViREC79CBsyVtCQOeDy9m6KUNADtBfAtNcTUDd/hwtLgxQQA6WoyjXKEpA9TWBi8ldSUCmkoBtGs1TQHspY4Cq2FNAGfhYAKyjTEDAur6fZ7dYQAZwMwzY+lJAN4W0YGUOVEDstQr1R/hYQHB3JdcB+k9Aiv6PzYJpUEDU0iXcyZdXQFsMOAsEGlJAlg0Oo48YUkAdT7iXMP9bQIJWwbKZvVxA+gZNOW+vXECyPlZVhPBdQERv8ctsWl9A+J4WFoETW0AsNYFeUTNWQDPBiDJpRVxAzh19ZnxdYEC/6x6pWJNXQLAocdJPvlpA2koy5wBiWEDZ9qUcmbVdQMcB21fSOmBASXk3krA1X0Cmva+hqV9bQA==\",\"dtype\":\"float64\",\"order\":\"little\",\"shape\":[50]},\"A_0\":{\"__ndarray__\":\"CbV6HopgEkA1+mf1OdxCQE2e/IvBxz1AHn7Zrz+KPkDkpy5emT1MQO7o9aMEjkxANqTNxiekTkCxST9oS+U1QKU2xrxyUjhANh3P5ip2UEDBApU+421MQP+UH2S4LVFAqoFT1sLiUEA7qBN+Y7ZOQL7ofEtUs01AMrMNaqViREC79CBsyVtCQOeDy9m6KUNADtBfAtNcTUDd/hwtLgxQQA6WoyjXKEpA9TWBi8ldSUCmkoBtGs1TQHspY4Cq2FNAGfhYAKyjTEDAur6fZ7dYQAZwMwzY+lJAN4W0YGUOVEDstQr1R/hYQHB3JdcB+k9Aiv6PzYJpUEDU0iXcyZdXQFsMOAsEGlJAlg0Oo48YUkAdT7iXMP9bQIJWwbKZvVxA+gZNOW+vXECyPlZVhPBdQERv8ctsWl9A+J4WFoETW0AsNYFeUTNWQDPBiDJpRVxAzh19ZnxdYEC/6x6pWJNXQLAocdJPvlpA2koy5wBiWEDZ9qUcmbVdQMcB21fSOmBASXk3krA1X0Cmva+hqV9bQA==\",\"dtype\":\"float64\",\"order\":\"little\",\"shape\":[50]},\"index\":[0,1,2,3,4,5,6,7,8,9,10,11,12,13,14,15,16,17,18,19,20,21,22,23,24,25,26,27,28,29,30,31,32,33,34,35,36,37,38,39,40,41,42,43,44,45,46,47,48,49]},\"selected\":{\"id\":\"1609\"},\"selection_policy\":{\"id\":\"1630\"}},\"id\":\"1608\",\"type\":\"ColumnDataSource\"},{\"attributes\":{},\"id\":\"1583\",\"type\":\"LinearScale\"}],\"root_ids\":[\"1573\"]},\"title\":\"Bokeh Application\",\"version\":\"2.4.3\"}};\n",
       "    var render_items = [{\"docid\":\"575095ea-f254-4257-bb63-1a33dc6fe617\",\"root_ids\":[\"1573\"],\"roots\":{\"1573\":\"69476f01-baa7-485c-9c9c-1daa218dd2ca\"}}];\n",
       "    root.Bokeh.embed.embed_items_notebook(docs_json, render_items);\n",
       "    for (const render_item of render_items) {\n",
       "      for (const root_id of render_item.root_ids) {\n",
       "\tconst id_el = document.getElementById(root_id)\n",
       "\tif (id_el.children.length && (id_el.children[0].className === 'bk-root')) {\n",
       "\t  const root_el = id_el.children[0]\n",
       "\t  root_el.id = root_el.id + '-rendered'\n",
       "\t}\n",
       "      }\n",
       "    }\n",
       "  }\n",
       "  if (root.Bokeh !== undefined && root.Bokeh.Panel !== undefined) {\n",
       "    embed_document(root);\n",
       "  } else {\n",
       "    var attempts = 0;\n",
       "    var timer = setInterval(function(root) {\n",
       "      if (root.Bokeh !== undefined && root.Bokeh.Panel !== undefined) {\n",
       "        clearInterval(timer);\n",
       "        embed_document(root);\n",
       "      } else if (document.readyState == \"complete\") {\n",
       "        attempts++;\n",
       "        if (attempts > 200) {\n",
       "          clearInterval(timer);\n",
       "          console.log(\"Bokeh: ERROR: Unable to run BokehJS code because BokehJS library is missing\");\n",
       "        }\n",
       "      }\n",
       "    }, 25, root)\n",
       "  }\n",
       "})(window);</script>"
      ],
      "text/plain": [
       ":Curve   [index]   (0)"
      ]
     },
     "execution_count": 45,
     "metadata": {
      "application/vnd.holoviews_exec.v0+json": {
       "id": "1573"
      }
     },
     "output_type": "execute_result"
    }
   ],
   "source": [
    "import pandas as pd\n",
    "import hvplot.pandas\n",
    "df = pd.DataFrame(np.linspace(0,100)+np.random.rand(50)*50)\n",
    "np.shape(df)\n",
    "df.hvplot()"
   ]
  },
  {
   "cell_type": "markdown",
   "id": "2cf881dc",
   "metadata": {
    "slideshow": {
     "slide_type": "slide"
    }
   },
   "source": [
    "### New Applications in Dramatic Irony Mediated Context Aware Antigravity Reference Frames\n",
    "#####  D. Duck, W.E. Coyote, B. Bunny\n",
    "###### Journal of Fake Science Monthly, Vol 83(1), Jul 2032, 44-59\n"
   ]
  },
  {
   "cell_type": "markdown",
   "id": "81d0780d",
   "metadata": {
    "slideshow": {
     "slide_type": "fragment"
    }
   },
   "source": [
    "## **Introduction**\n",
    "\n",
    "The role of irony has long been understood to be a key driver of gravitational..."
   ]
  },
  {
   "cell_type": "markdown",
   "id": "cf2adaaa",
   "metadata": {
    "slideshow": {
     "slide_type": "subslide"
    }
   },
   "source": [
    "## Background\n",
    "\n",
    "In the methods described below we seek to expand upon the seminal work by Isaac Newton [1][link_1]\n",
    "\n",
    "\n",
    "$$ \\oint _{t_0}^{t_{critical}} L(\\phi(t),\\Gamma(t) ) $$\n",
    "\n",
    "[link_1]: https://scholar.google.com/ \"Title\""
   ]
  },
  {
   "cell_type": "markdown",
   "id": "a361a64a",
   "metadata": {
    "slideshow": {
     "slide_type": "subslide"
    }
   },
   "source": [
    "## Code Appendix"
   ]
  },
  {
   "cell_type": "code",
   "execution_count": 25,
   "id": "b7ca0deb",
   "metadata": {
    "slideshow": {
     "slide_type": "fragment"
    }
   },
   "outputs": [
    {
     "data": {
      "text/plain": [
       "[<matplotlib.lines.Line2D at 0x258f2ac1e80>]"
      ]
     },
     "execution_count": 25,
     "metadata": {},
     "output_type": "execute_result"
    },
    {
     "data": {
      "image/png": "[encoded data removed]",
      "text/plain": [
       "<Figure size 640x480 with 1 Axes>"
      ]
     },
     "metadata": {},
     "output_type": "display_data"
    }
   ],
   "source": [
    "import matplotlib.pyplot as plt\n",
    "import seaborn as sns\n",
    "v = [9,9,10,10,9,8,9,-10,-10,-10,-10,-10,-10]\n",
    "sns.set_theme()\n",
    "plt.title('Vertical Displacement vs. Time')\n",
    "plt.xlabel('Time(s)')\n",
    "plt.ylabel('Displacement')\n",
    "plt.plot(v)"
   ]
  },
  {
   "cell_type": "code",
   "execution_count": null,
   "id": "24b9d457",
   "metadata": {},
   "outputs": [],
   "source": []
  }
 ],
 "metadata": {
  "celltoolbar": "Slideshow",
  "kernelspec": {
   "display_name": "Python 3 (ipykernel)",
   "language": "python",
   "name": "python3"
  },
  "language_info": {
   "codemirror_mode": {
    "name": "ipython",
    "version": 3
   },
   "file_extension": ".py",
   "mimetype": "text/x-python",
   "name": "python",
   "nbconvert_exporter": "python",
   "pygments_lexer": "ipython3",
   "version": "3.9.16"
  },
  "rise": {
   "autolaunch": true
  }
 },
 "nbformat": 4,
 "nbformat_minor": 5
}
